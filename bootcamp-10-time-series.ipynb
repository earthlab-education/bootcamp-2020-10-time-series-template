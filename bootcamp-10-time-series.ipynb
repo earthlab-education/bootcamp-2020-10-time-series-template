{
 "cells": [
  {
   "cell_type": "markdown",
   "metadata": {},
   "source": [
    "<img style=\"float: left;\" src=\"earth-lab-logo-rgb.png\" width=\"150\" height=\"150\" />\n",
    "\n",
    "# Earth Analytics Education - Bootcamp Course Fall 2020"
   ]
  },
  {
   "cell_type": "markdown",
   "metadata": {},
   "source": [
    "## Important  - Assignment Guidelines\n",
    "\n",
    "1. Before you turn in your assignment, make sure to run the entire notebook with a fresh kernel. To do this first, **restart the kernel** (in the menubar, select Kernel$\\rightarrow$Restart & Run All)\n",
    "2. In the cells below you will replace the `raise NotImplementedError()` code with your code that addresses the activity challenge. If you don't replace that code, your notebook will not run properly.\n",
    "\n",
    "```\n",
    "# YOUR CODE HERE\n",
    "raise NotImplementedError()\n",
    "```\n",
    "\n",
    "3. Any open ended questions will have a \"YOUR ANSWER HERE\" within a markdown cell. Replace that text with your answer also formatted using Markdown.\n",
    "4. **IMPORTANT: DO NOT RENAME THIS NOTEBOOK!** If the file name changes, the autograder will not grade your assignment properly.\n",
    "5. **Do not rename the notebook file.** If you do, the autograder will not recognize your submisson.\n",
    "6. When you plot, please comment out `plt.show()` as the code below will effectively run `plt.show()` for you and also will grab your plot for autograding. DO NOT DELETE any code that says `DO NOT REMOVE LINE BELOW`. That code is for autograding!!\n",
    "\n",
    "```\n",
    "### DO NOT REMOVE LINE BELOW ###\n",
    "student_plot1_ax = nb.convert_axes(plt)\n",
    "```\n",
    "\n",
    "\n",
    "\n",
    "## Follow to PEP 8 Syntax Guidelines\n",
    "\n",
    "* Run the `autopep8` tool on all cells prior to submitting (HINT: hit shift + the tool to run it on all cells at once!\n",
    "* Use clear and expressive names for variables. \n",
    "* Organize your code to support readability.\n",
    "* Check for code line length\n",
    "* Use comments and white space sparingly where it is needed\n"
   ]
  },
  {
   "cell_type": "markdown",
   "metadata": {},
   "source": [
    "### Add Your Name Below \n",
    "**Your Name:**"
   ]
  },
  {
   "cell_type": "markdown",
   "metadata": {},
   "source": [
    "<img style=\"float: left;\" src=\"colored-bar.png\"/>"
   ]
  },
  {
   "cell_type": "markdown",
   "metadata": {},
   "source": [
    "---"
   ]
  },
  {
   "cell_type": "markdown",
   "metadata": {
    "deletable": false,
    "editable": false,
    "hideCode": false,
    "hidePrompt": false,
    "nbgrader": {
     "cell_type": "markdown",
     "checksum": "6d62d501a6a0a4e2d8c64f3ee32b2d33",
     "grade": false,
     "grade_id": "hw-instructions",
     "locked": true,
     "schema_version": 3,
     "solution": false
    }
   },
   "source": [
    "# Week 10 Homework Template - Time Series Data\n",
    "\n",
    "To complete assignment 10, be sure to review the following chapters:\n",
    "\n",
    "* <a href=\"https://www.earthdatascience.org/courses/use-data-open-source-python/use-time-series-data-in-python/introduction-to-time-series-in-pandas-python/\" target=\"_blank\"> Time series data in Pandas </a>\n",
    "* <a href=\"https://www.earthdatascience.org/courses/use-data-open-source-python/data-stories/colorado-floods-2013/\" target=\"_blank\">The overview of the 2013 Floods in Colorado, USA</a>\n",
    "\n",
    "in the Earth Lab Intermediate Earth Data Science online textbook on the earthdatascience.org website.\n",
    "\n",
    "## Assignment Data\n",
    "\n",
    "For this assignment, you will write **Python** code to download and work with time \n",
    "series data associated with a large flood event that occured in Colorado, USA in \n",
    "2013. You will explore the relationship between precipitation and stream discharge \n",
    "for Boulder Creek in Boulder, CO as they increased and decreased during the flood \n",
    "event. You will also consider how the values compared to previous years before \n",
    "the flood event. \n",
    "\n",
    "There are two datasets that you will need to complete this assignment:\n",
    "\n",
    "* `colorado-flood/precipitation/805333-precip-daily-1948-2013.csv`:\n",
    "    * Hourly total precipitation in inches collected between 1948 and 2013\n",
    "    * Because the data are hourly, there can be multiple records for each day\n",
    "    * \"no data\" value is 999.99\n",
    "    * [Original datasource from National Oceanic and Atmospheric Administration (NOAA)](https://www.ncdc.noaa.gov/cdo-web/search)\n",
    "\n",
    "* `\"colorado-flood/precipitation/06730200-discharge-daily-1986-2013.csv`:\n",
    "    * Daily mean stream discharge in cubic feet per second (CFS) between 1986-2013 \n",
    "    * Dataset does not have a value for \"no data\"\n",
    "    * [Original datasource from U.S. Geological Survey (USGS)](http://waterdata.usgs.gov/nwis/dv?cb_00060=on&format=html&site_no=06730200&referred_module=sw&period=&begin_date=1986-10-01&end_date=2013-12-31)\n",
    "    \n",
    "## Data Download Instructions \n",
    "The data can be downloaded using earthpy as follows:\n",
    "\n",
    "`et.data.get_data(\"colorado-flood\")`"
   ]
  },
  {
   "cell_type": "code",
   "execution_count": null,
   "metadata": {
    "deletable": false,
    "editable": false,
    "hideCode": false,
    "hidePrompt": false,
    "nbgrader": {
     "cell_type": "code",
     "checksum": "29449394260fd2432718293884edca8a",
     "grade": false,
     "grade_id": "core-imports",
     "locked": true,
     "schema_version": 3,
     "solution": false
    }
   },
   "outputs": [],
   "source": [
    "# Core imports needed for grading - Do not modify this cell!\n",
    "import matplotcheck.notebook as nb\n",
    "from matplotcheck.base import PlotTester\n",
    "import matplotcheck.autograde as ag"
   ]
  },
  {
   "cell_type": "markdown",
   "metadata": {
    "deletable": false,
    "editable": false,
    "hideCode": false,
    "hidePrompt": false,
    "nbgrader": {
     "cell_type": "markdown",
     "checksum": "9793c5034762eb173d6f39b74933b27d",
     "grade": false,
     "grade_id": "question-student-imports",
     "locked": true,
     "schema_version": 3,
     "solution": false
    }
   },
   "source": [
    "## Import Python Packages\n",
    "\n",
    "In the cell below, add code **after the line for `Your Code Here`**, replacing `raise NotImplementedError()` with your code to import the package/module needed to:\n",
    "* create plots\n",
    "* set your working directory\n",
    "* download data using earthpy functions\n",
    "* work with `pandas` DataFrames\n",
    "\n",
    "You will need a special **Python** package to help format the dates when plotting your data. Make sure to include the line below which imports `DateFormatter` from `matplotlib`.\n",
    "\n",
    "```\n",
    "from matplotlib.dates import DateFormatter\n",
    "```\n",
    "\n",
    "Be sure to list the package imports following the appropriate PEP 8 order and \n",
    "spacing requirements. "
   ]
  },
  {
   "cell_type": "code",
   "execution_count": null,
   "metadata": {
    "deletable": false,
    "nbgrader": {
     "cell_type": "code",
     "checksum": "20489880accefdb27a2f10ca8cc97835",
     "grade": false,
     "grade_id": "student-imports-answer",
     "locked": false,
     "schema_version": 3,
     "solution": true,
     "task": false
    }
   },
   "outputs": [],
   "source": [
    "# YOUR CODE HERE\n",
    "raise NotImplementedError()"
   ]
  },
  {
   "cell_type": "code",
   "execution_count": null,
   "metadata": {
    "deletable": false,
    "editable": false,
    "hideCode": false,
    "hidePrompt": false,
    "nbgrader": {
     "cell_type": "code",
     "checksum": "391446f98a41ed7058c57e7db93107e9",
     "grade": true,
     "grade_id": "student-imports-tests",
     "locked": true,
     "points": 5,
     "schema_version": 3,
     "solution": false,
     "task": false
    }
   },
   "outputs": [],
   "source": [
    "# Test package imports - DO NOT MODIFY THIS CELL!\n",
    "import_answer_points = 0\n",
    "\n",
    "try:\n",
    "    pd.NA\n",
    "    print(\"\\u2705 Score! Pandas has been imported as a pd!\")\n",
    "    import_answer_points += 1\n",
    "except NameError:\n",
    "    print(\"\\u274C Pandas has not been imported as a pd, please make sure to import is properly.\")\n",
    "\n",
    "try:\n",
    "    plt.show()\n",
    "    print(\"\\u2705 Nice! matplotlib.pyplot has been imported as plt!\")\n",
    "    import_answer_points += 1\n",
    "except NameError:\n",
    "    print(\"matplotlib.pyplot has not been imported as plt, please make sure to import this properly.\")\n",
    "\n",
    "try:\n",
    "    os.getcwd()\n",
    "    print(\"\\u2705 Great work! The os module has imported correctly!\")\n",
    "    import_answer_points += 1\n",
    "except NameError:\n",
    "    print(\"\\u274C Oops make sure that the os package is imported.\")\n",
    "\n",
    "try:\n",
    "    data = et.io\n",
    "    print(\"\\u2705 Score! The earthpy package has imported correctly!\")\n",
    "    import_answer_points += 1\n",
    "except NameError:\n",
    "    print(\"\\u274C Oops make sure that the earthpy package is imported using the alias et.\")\n",
    "\n",
    "try:\n",
    "    DateFormatter\n",
    "    print(\"\\u2705 Nice! The DateFormatter module from matplotlib has imported correctly!\")\n",
    "    import_answer_points += 1\n",
    "except NameError:\n",
    "    print(\"\\u274C Oops make sure that the DateFormatter module from matplotlib is imported.\")\n",
    "\n",
    "print(\"\\n \\u27A1 You received {} out of 5 points.\".format(import_answer_points))\n",
    "\n",
    "import_answer_points"
   ]
  },
  {
   "cell_type": "markdown",
   "metadata": {
    "deletable": false,
    "editable": false,
    "hideCode": false,
    "hidePrompt": false,
    "nbgrader": {
     "cell_type": "markdown",
     "checksum": "d6fa9790695b33d91a5929f48bb4ce8e",
     "grade": false,
     "grade_id": "set-working-directory-instructions",
     "locked": true,
     "schema_version": 3,
     "solution": false,
     "task": false
    }
   },
   "source": [
    "## Set Working Directory and Download Data\n",
    "\n",
    "In the cell below complete the following task:\n",
    "\n",
    "1. First, use EarthPy to download the `colorado-flood` data: `et.data.get_data(\"colorado-flood\")`. When you download the data, the `earth-analytics/data` directory gets created on your computer for you.\n",
    "2. **Use a conditional statement** to:\n",
    "    * Set the working directory to the **`earth-analytics/data` directory in your home directory** if the path exists.\n",
    "    * Print a helpful message if the path does not exist. \n",
    "* **Use reusable variable(s) to reduce repetition in your code.**\n",
    "* Use the `os` package to ensure that the paths you create will run successfully on any operating system.\n"
   ]
  },
  {
   "cell_type": "code",
   "execution_count": null,
   "metadata": {
    "deletable": false,
    "hideCode": false,
    "hidePrompt": false,
    "nbgrader": {
     "cell_type": "code",
     "checksum": "63910669445a1f9ab3d48ebaf370ef73",
     "grade": false,
     "grade_id": "download-and-set-working-directory",
     "locked": false,
     "schema_version": 3,
     "solution": true,
     "task": false
    }
   },
   "outputs": [],
   "source": [
    "# YOUR CODE HERE\n",
    "raise NotImplementedError()"
   ]
  },
  {
   "cell_type": "code",
   "execution_count": null,
   "metadata": {
    "deletable": false,
    "editable": false,
    "hideCode": false,
    "hidePrompt": false,
    "nbgrader": {
     "cell_type": "code",
     "checksum": "7f80f78039f60003adff2d0c3c2c7592",
     "grade": true,
     "grade_id": "student-download-tests",
     "locked": true,
     "points": 5,
     "schema_version": 3,
     "solution": false,
     "task": false
    }
   },
   "outputs": [],
   "source": [
    "# DO NOT MODIFY THIS CELL\n",
    "# Tests that the working directory is set to earth-analytics/data\n",
    "\n",
    "path = os.path.normpath(os.getcwd())\n",
    "student_wd_parts = path.split(os.sep)\n",
    "\n",
    "wd_points = 0\n",
    "\n",
    "if student_wd_parts[-2:] == ['earth-analytics', 'data']:\n",
    "    print(\"\\u2705 Great - it looks like your working directory is set correctly to ~/earth-analytics/data\")\n",
    "    wd_points += 5\n",
    "else:\n",
    "    print(\"\\u274C Oops, the autograder will not run unless your working directory is set to earth-analytics/data\")\n",
    "\n",
    "print(\"\\n \\u27A1 You received {} out of 5 points for setting your working directory.\".format(\n",
    "    wd_points))\n",
    "wd_points"
   ]
  },
  {
   "cell_type": "markdown",
   "metadata": {
    "deletable": false,
    "editable": false,
    "nbgrader": {
     "cell_type": "markdown",
     "checksum": "3ccc2797cbbf15ea417142e11fc6f2ba",
     "grade": false,
     "grade_id": "data-paths-instructions",
     "locked": true,
     "schema_version": 3,
     "solution": false,
     "task": false
    }
   },
   "source": [
    "### Set Data Paths\n",
    "\n",
    "Create paths with the `os` package for the two datasets below: \n",
    "* `805333-precip-daily-1948-2013.csv` in the `precipitation` subdirectory\n",
    "* `06730200-discharge-daily-1986-2013.csv` in the `discharge` subdirectory"
   ]
  },
  {
   "cell_type": "code",
   "execution_count": null,
   "metadata": {
    "deletable": false,
    "nbgrader": {
     "cell_type": "code",
     "checksum": "496d828d812f311b00afdeb4e3d234c6",
     "grade": false,
     "grade_id": "students-setting-paths",
     "locked": false,
     "schema_version": 3,
     "solution": true,
     "task": false
    }
   },
   "outputs": [],
   "source": [
    "# YOUR CODE HERE\n",
    "raise NotImplementedError()"
   ]
  },
  {
   "cell_type": "markdown",
   "metadata": {
    "deletable": false,
    "editable": false,
    "nbgrader": {
     "cell_type": "markdown",
     "checksum": "16dd2a93a2d2adde55292dd3b722710f",
     "grade": false,
     "grade_id": "precip-read-in-instructions",
     "locked": true,
     "schema_version": 3,
     "solution": false,
     "task": false
    }
   },
   "source": [
    "## Open Precipitation Data Using Pandas\n",
    "\n",
    "Using the `read_csv()` function in `pandas`, read in your precipitation data. Don't forget to use the `parse_dates` argument to parse the `DATE` column, and to set the `na_values` to the value specified in the information given about this data above. Set the `DATE` column to be the index of the DataFrame.\n",
    "\n",
    "Call the final `DataFrame` object at the end of the cell. "
   ]
  },
  {
   "cell_type": "code",
   "execution_count": null,
   "metadata": {
    "deletable": false,
    "nbgrader": {
     "cell_type": "code",
     "checksum": "242bcc15fb284d02c4c9ef3c39adb034",
     "grade": false,
     "grade_id": "students-read-in-precip",
     "locked": false,
     "schema_version": 3,
     "solution": true,
     "task": false
    }
   },
   "outputs": [],
   "source": [
    "# YOUR CODE HERE\n",
    "raise NotImplementedError()"
   ]
  },
  {
   "cell_type": "code",
   "execution_count": null,
   "metadata": {
    "deletable": false,
    "editable": false,
    "nbgrader": {
     "cell_type": "code",
     "checksum": "dcc3a3a941a43f9f13082e32179c2055",
     "grade": true,
     "grade_id": "cell-074cdbc1e9abf546",
     "locked": true,
     "points": 0,
     "schema_version": 3,
     "solution": false,
     "task": false
    }
   },
   "outputs": [],
   "source": [
    "# Does your dataframe exist?\n",
    "# Important - do not add a cell immediately below this cell!\n",
    "\n",
    "student_precip_answer = _\n",
    "\n",
    "if isinstance(student_precip_answer, pd.DataFrame):\n",
    "    print(\"\\u2705 Great, you created a pandas dataframe above\")\n",
    "else:\n",
    "    print(\"\\u274C Oops - the cell above should have a DataFrame output.\")"
   ]
  },
  {
   "cell_type": "code",
   "execution_count": null,
   "metadata": {
    "deletable": false,
    "editable": false,
    "nbgrader": {
     "cell_type": "code",
     "checksum": "8daf3fb6a3a0ad96b6a44fdefc07a5e9",
     "grade": true,
     "grade_id": "test-precip-read-in",
     "locked": true,
     "points": 5,
     "schema_version": 3,
     "solution": false,
     "task": false
    }
   },
   "outputs": [],
   "source": [
    "# DO NOT MODIFY THIS CELL\n"
   ]
  },
  {
   "cell_type": "markdown",
   "metadata": {
    "deletable": false,
    "editable": false,
    "nbgrader": {
     "cell_type": "markdown",
     "checksum": "a4c43112493cd092095b7e522502b28f",
     "grade": false,
     "grade_id": "precip-resample-instructions",
     "locked": true,
     "schema_version": 3,
     "solution": false,
     "task": false
    }
   },
   "source": [
    "### Resample Precipitation Data\n",
    "\n",
    "The precipitation data that you have contains more data than you need for your analysis:\n",
    "\n",
    "1. It has a time span that extends beyong your analysis time span which is the year of the Boulder Flood - 2013. \n",
    "2. It also contains hourly data yet you will want daily summaries for your analysis. \n",
    "\n",
    "To account for this in the cell below: \n",
    "\n",
    "1. Subset the data to only include data within your time period of interest: August 1st, 2013 and October 31st, 2013. \n",
    "2. Resample the data to represent the daily sum of precipitation. \n",
    "\n",
    "Hint: You can subset and resample in a single line of code if you wish. \n",
    "\n",
    "Call the final `DataFrame` object at the end of the cell below. "
   ]
  },
  {
   "cell_type": "code",
   "execution_count": null,
   "metadata": {
    "deletable": false,
    "nbgrader": {
     "cell_type": "code",
     "checksum": "44f4e45c9db19eb8d6fea4fdb9767369",
     "grade": false,
     "grade_id": "precip-daily-sum",
     "locked": false,
     "schema_version": 3,
     "solution": true,
     "task": false
    }
   },
   "outputs": [],
   "source": [
    "# YOUR CODE HERE\n",
    "raise NotImplementedError()"
   ]
  },
  {
   "cell_type": "code",
   "execution_count": null,
   "metadata": {
    "deletable": false,
    "editable": false,
    "nbgrader": {
     "cell_type": "code",
     "checksum": "45c4f30b51bb2385b0e2753397c30a7b",
     "grade": true,
     "grade_id": "precip-daily-sum-tests",
     "locked": true,
     "points": 5,
     "schema_version": 3,
     "solution": false,
     "task": false
    }
   },
   "outputs": [],
   "source": [
    "# DO NOT MODIFY THIS CELL\n"
   ]
  },
  {
   "cell_type": "markdown",
   "metadata": {
    "deletable": false,
    "editable": false,
    "nbgrader": {
     "cell_type": "markdown",
     "checksum": "a46316c682e57e1ed5a2ea57c5db92f1",
     "grade": false,
     "grade_id": "precip-monthly-max-instructions",
     "locked": true,
     "schema_version": 3,
     "solution": false,
     "task": false
    }
   },
   "source": [
    "### Calculate the Monthly DAILY Maximum for Precipitation Data in 2013\n",
    "\n",
    "In the cell below, use the same hourly precipitation dataset to \n",
    "calculate the **max daily value** in each month in the year 2013.\n",
    "\n",
    "HINT: this means that you will need to calculate a daily sum first and \n",
    "then resample again to get the monthly max daily value. (the biggest\n",
    "day of rainfall in each month)\n",
    "\n",
    "Call the final `DataFrame` object at the end of the cell. "
   ]
  },
  {
   "cell_type": "code",
   "execution_count": null,
   "metadata": {
    "deletable": false,
    "nbgrader": {
     "cell_type": "code",
     "checksum": "9c12f1cb59737cb886263ee51cf265aa",
     "grade": false,
     "grade_id": "precip-monthly-max",
     "locked": false,
     "schema_version": 3,
     "solution": true,
     "task": false
    }
   },
   "outputs": [],
   "source": [
    "# YOUR CODE HERE\n",
    "raise NotImplementedError()"
   ]
  },
  {
   "cell_type": "code",
   "execution_count": null,
   "metadata": {
    "deletable": false,
    "editable": false,
    "nbgrader": {
     "cell_type": "code",
     "checksum": "cf5aa488ebb3f97074cc4981f795695c",
     "grade": true,
     "grade_id": "precip-monthly-max-tests",
     "locked": true,
     "points": 5,
     "schema_version": 3,
     "solution": false,
     "task": false
    }
   },
   "outputs": [],
   "source": [
    "# DO NOT MODIFY THIS CELL\n"
   ]
  },
  {
   "cell_type": "markdown",
   "metadata": {
    "deletable": false,
    "editable": false,
    "nbgrader": {
     "cell_type": "markdown",
     "checksum": "f8920b075bbf1f472aa5f213f2ad1633",
     "grade": false,
     "grade_id": "precip-monthly-sum-instructions",
     "locked": true,
     "schema_version": 3,
     "solution": false,
     "task": false
    }
   },
   "source": [
    "### Summarize Precipitation Data by Month\n",
    "\n",
    "Find the monthly sum of the hourly precipitation dataset. This DataFrame should be for all months in the original dataset. \n",
    "\n",
    "Call the final `DataFrame` object at the end of the cell. "
   ]
  },
  {
   "cell_type": "code",
   "execution_count": null,
   "metadata": {
    "deletable": false,
    "nbgrader": {
     "cell_type": "code",
     "checksum": "12020597bc2466d377a06b2bea88ad9b",
     "grade": false,
     "grade_id": "precip-monthly-sum",
     "locked": false,
     "schema_version": 3,
     "solution": true,
     "task": false
    }
   },
   "outputs": [],
   "source": [
    "# YOUR CODE HERE\n",
    "raise NotImplementedError()"
   ]
  },
  {
   "cell_type": "code",
   "execution_count": null,
   "metadata": {
    "deletable": false,
    "editable": false,
    "nbgrader": {
     "cell_type": "code",
     "checksum": "afca31356402eb7af47703c71fd88dba",
     "grade": true,
     "grade_id": "precip-monthly-sum-tests",
     "locked": true,
     "points": 5,
     "schema_version": 3,
     "solution": false,
     "task": false
    }
   },
   "outputs": [],
   "source": [
    "# DO NOT MODIFY THIS CELL\n"
   ]
  },
  {
   "cell_type": "markdown",
   "metadata": {
    "deletable": false,
    "editable": false,
    "nbgrader": {
     "cell_type": "markdown",
     "checksum": "1ff4e990693ead10f445d22db6585d93",
     "grade": false,
     "grade_id": "cell-908e6aa38560b563",
     "locked": true,
     "schema_version": 3,
     "solution": false,
     "task": false
    }
   },
   "source": [
    "## Challenge 1d: Plot Precipitation Data in a Figure\n",
    "\n",
    "Create a figure with 3 line subplots using the data that you calculated above as follows:\n",
    "\n",
    "* Subplot 1: daily precipitation values from Aug 1, 2013 to Oct 1, 2013\n",
    "    * Plot needs a title, x axis label, and y axis label. The y label should have units of measure in it. \n",
    "    * X axis tick labels should be month-day (e.g. \"Aug-01\")\n",
    "* Subplot 2: monthly maximum values of precipitation in 2013\n",
    "    * Plot needs a title, x axis label, and y axis label. The y label should have units of measure in it. \n",
    "    * X axis tick labels should be month-day (e.g. \"Aug-01\")\n",
    "* Subplot 3 monthly totals of precipitation for all years in dataset\n",
    "    * Plot needs a title, x axis label, and y axis label. The y label should have units of measure in it. \n",
    "    * X axis label should be Year (e.g. \"2013\")\n",
    "    \n",
    "You can use the `DateFormatter` package imported above to ensure you x axis labels are formatted correctly. "
   ]
  },
  {
   "cell_type": "code",
   "execution_count": null,
   "metadata": {
    "deletable": false,
    "nbgrader": {
     "cell_type": "code",
     "checksum": "6aff2e3cb555b40e8daaa1f8e08b98c5",
     "grade": false,
     "grade_id": "precip-plots",
     "locked": false,
     "schema_version": 3,
     "solution": true,
     "task": false
    }
   },
   "outputs": [],
   "source": [
    "# YOUR CODE HERE\n",
    "raise NotImplementedError()\n",
    "\n",
    "### DO NOT REMOVE LINE BELOW ###\n",
    "precip_plot = nb.convert_axes(plt, which_axes=\"all\")"
   ]
  },
  {
   "cell_type": "code",
   "execution_count": null,
   "metadata": {
    "deletable": false,
    "editable": false,
    "nbgrader": {
     "cell_type": "code",
     "checksum": "44da628645cd5995294ef41dd3706df2",
     "grade": true,
     "grade_id": "precip-plot-answers",
     "locked": true,
     "points": 0,
     "schema_version": 3,
     "solution": false,
     "task": false
    }
   },
   "outputs": [],
   "source": [
    "# DO NOT MODIFY THIS CELL\n"
   ]
  },
  {
   "cell_type": "code",
   "execution_count": null,
   "metadata": {
    "deletable": false,
    "editable": false,
    "nbgrader": {
     "cell_type": "code",
     "checksum": "242aff2f663ac5f7d71903c7b166ed9e",
     "grade": true,
     "grade_id": "precip-plot-tests",
     "locked": true,
     "points": 24,
     "schema_version": 3,
     "solution": false,
     "task": false
    }
   },
   "outputs": [],
   "source": [
    "# DO NOT MODIFY THIS CELL\n",
    "daily_precip = PlotTester(precip_plot[0])\n",
    "monthly_max_precip = PlotTester(precip_plot[1])\n",
    "sum_precip = PlotTester(precip_plot[2])\n",
    "line_plot_1, line_plot_2, line_plot_3 = False, False, False\n",
    "\n",
    "try:\n",
    "    daily_precip.assert_plot_type('line')\n",
    "    print(\"\\u2705 First plot is a line plot!\")\n",
    "    line_plot_1 = True\n",
    "except AssertionError:\n",
    "    print(\"\\u274C The first plot is not a line plot, make sure to make it to a line plot. Tests will not run successfully if this does not pass.\")\n",
    "\n",
    "try:\n",
    "    monthly_max_precip.assert_plot_type('line')\n",
    "    print(\"\\u2705 Second plot is a line plot!\")\n",
    "    line_plot_2 = True\n",
    "except AssertionError:\n",
    "    print(\"\\u274C The second plot is not a line plot, make sure to make it to a line plot. Tests will not run successfully if this does not pass.\")\n",
    "\n",
    "try:\n",
    "    sum_precip.assert_plot_type('line')\n",
    "    print(\"\\u2705 Second plot is a line plot!\")\n",
    "    line_plot_3 = True\n",
    "except AssertionError:\n",
    "    print(\"\\u274C The second plot is not a line plot, make sure to make it to a line plot. Tests will not run successfully if this does not pass.\")\n",
    "\n"
   ]
  },
  {
   "cell_type": "markdown",
   "metadata": {
    "deletable": false,
    "editable": false,
    "nbgrader": {
     "cell_type": "markdown",
     "checksum": "c57eb3b4ef69a777e452f7c80bb9e1eb",
     "grade": false,
     "grade_id": "discharge-read-in-instructions",
     "locked": true,
     "schema_version": 3,
     "solution": false,
     "task": false
    }
   },
   "source": [
    "## Challenge 2: Open Stream Discharge Data Using Pandas\n",
    "\n",
    "Using the same functions as above, read in your discharge data. Don't forget to use the `parse_dates` argument to parse the `datetime` column, and to set the `na_values` to the value specified in the information given about this data above. Set the `datetime` column to be the index of the DataFrame.\n",
    "\n",
    "Call the final `DataFrame` object at the end of the cell. "
   ]
  },
  {
   "cell_type": "code",
   "execution_count": null,
   "metadata": {
    "deletable": false,
    "nbgrader": {
     "cell_type": "code",
     "checksum": "5cd19d997ef199255a8e3f7d510f9aac",
     "grade": false,
     "grade_id": "students-read-in-discharge",
     "locked": false,
     "schema_version": 3,
     "solution": true,
     "task": false
    }
   },
   "outputs": [],
   "source": [
    "# YOUR CODE HERE\n",
    "raise NotImplementedError()"
   ]
  },
  {
   "cell_type": "code",
   "execution_count": null,
   "metadata": {
    "deletable": false,
    "editable": false,
    "nbgrader": {
     "cell_type": "code",
     "checksum": "02e831a0ad134628e4cad8fec12d3d96",
     "grade": true,
     "grade_id": "test-discharge-read-in",
     "locked": true,
     "points": 5,
     "schema_version": 3,
     "solution": false,
     "task": false
    }
   },
   "outputs": [],
   "source": [
    "# DO NOT MODIFY THIS CELL\n"
   ]
  },
  {
   "cell_type": "markdown",
   "metadata": {
    "deletable": false,
    "editable": false,
    "nbgrader": {
     "cell_type": "markdown",
     "checksum": "01e9ed9a2033600019683aa7a5acbf4b",
     "grade": false,
     "grade_id": "discharge-subset-instructions",
     "locked": true,
     "schema_version": 3,
     "solution": false,
     "task": false
    }
   },
   "source": [
    "### Challenge 2a: Subset Stream Discharge Data To Your Study Time Period\n",
    "\n",
    "In the cell below, subset the stream discharge data to the same timeframe \n",
    "that you are interested in: August 1st, 2013 to October 31st, 2013. \n",
    "\n",
    "Call the final `DataFrame` object at the end of the cell. "
   ]
  },
  {
   "cell_type": "code",
   "execution_count": null,
   "metadata": {
    "deletable": false,
    "nbgrader": {
     "cell_type": "code",
     "checksum": "89f9f8ea1c69bde63c116ab0a6f1318c",
     "grade": false,
     "grade_id": "discharge-daily",
     "locked": false,
     "schema_version": 3,
     "solution": true,
     "task": false
    }
   },
   "outputs": [],
   "source": [
    "# YOUR CODE HERE\n",
    "raise NotImplementedError()"
   ]
  },
  {
   "cell_type": "code",
   "execution_count": null,
   "metadata": {
    "deletable": false,
    "editable": false,
    "nbgrader": {
     "cell_type": "code",
     "checksum": "3b634717e41c05114671475f05bd69ca",
     "grade": true,
     "grade_id": "discharge-daily-test",
     "locked": true,
     "points": 5,
     "schema_version": 3,
     "solution": false,
     "task": false
    }
   },
   "outputs": [],
   "source": [
    "# DO NOT MODIFY THIS CELL\n"
   ]
  },
  {
   "cell_type": "markdown",
   "metadata": {
    "deletable": false,
    "editable": false,
    "nbgrader": {
     "cell_type": "markdown",
     "checksum": "7d2e7dc23934278fab490456c3d56545",
     "grade": false,
     "grade_id": "discharge-monthly-max-instructions",
     "locked": true,
     "schema_version": 3,
     "solution": false,
     "task": false
    }
   },
   "source": [
    "### Challenge 2b: Calculate the Monthly Maximum and Sum for Stream Discharge Data in 2013\n",
    "\n",
    "Use your original stream discharge dataset to calculate the maximum daily discharge rate for each month in the year 2013.\n",
    "\n",
    "HINT: you can calulate multiple summary values using the `.agg()`.\n",
    "The approach looks like this:\n",
    "\n",
    "```python\n",
    "your_df['year-here'].resample('value-here').agg({'column-you-want-to-summarize': ['max', 'sum']})\n",
    "```\n",
    "\n",
    "In the code above, you use `.agg` to summarize a specific column. You then specify which \n",
    "summary statistics you want. In the example above you are using max and sum values.\n",
    "\n",
    "Call the final `DataFrame` object at the end of the cell. "
   ]
  },
  {
   "cell_type": "code",
   "execution_count": null,
   "metadata": {
    "deletable": false,
    "nbgrader": {
     "cell_type": "code",
     "checksum": "fecf4ac619a6a3634f1250450ed77458",
     "grade": false,
     "grade_id": "dicharge-monthly-max",
     "locked": false,
     "schema_version": 3,
     "solution": true,
     "task": false
    }
   },
   "outputs": [],
   "source": [
    "# YOUR CODE HERE\n",
    "raise NotImplementedError()"
   ]
  },
  {
   "cell_type": "code",
   "execution_count": null,
   "metadata": {
    "deletable": false,
    "editable": false,
    "nbgrader": {
     "cell_type": "code",
     "checksum": "1d019e99784f0e0113a8c00fd357dfaf",
     "grade": true,
     "grade_id": "discharge-monthly-max-tests",
     "locked": true,
     "points": 10,
     "schema_version": 3,
     "solution": false,
     "task": false
    }
   },
   "outputs": [],
   "source": [
    "# DO NOT MODIFY THIS CELL\n"
   ]
  },
  {
   "cell_type": "markdown",
   "metadata": {
    "deletable": false,
    "editable": false,
    "nbgrader": {
     "cell_type": "markdown",
     "checksum": "52a84ce48c08cb657ea6c15b2c77bd36",
     "grade": false,
     "grade_id": "cell-2cede3dcad2fd569",
     "locked": true,
     "schema_version": 3,
     "solution": false,
     "task": false
    }
   },
   "source": [
    "## Challenge 2c: Clean Up Multi-index Dataframes\n",
    "\n",
    "Above you created an output dataframe with that is called a multi-index.\n",
    "A multi-index is when you have two or more header columns. It might \n",
    "be nice to clean that up for plotting. \n",
    "\n",
    "To combine the two headers into a single header in your dataframe, you can \n",
    "use the following approach (in the example below `df` is your dataframe\n",
    "name):\n",
    "\n",
    "`df.columns = df.columns.map('-'.join)`\n",
    "\n",
    "Below you are joining the headers and adding a `-` between the first \n",
    "header name and the second. The result should be a column called\n",
    "`disValue-mean` or `disValue-sum`.\n",
    "\n",
    "Give this a try in the cell below.\n",
    "\n",
    "IMPORTANT: if you run the code more than once it will continue to modify your\n",
    "header columns! You may need to restart and run all cells to fix \n",
    "any issues with your columns if you have run the cell more than once. "
   ]
  },
  {
   "cell_type": "code",
   "execution_count": null,
   "metadata": {
    "deletable": false,
    "nbgrader": {
     "cell_type": "code",
     "checksum": "fcab9b8f1abfd7266b93cda409779cb8",
     "grade": false,
     "grade_id": "cell-d5f9e93fa06d2bcc",
     "locked": false,
     "schema_version": 3,
     "solution": true,
     "task": false
    }
   },
   "outputs": [],
   "source": [
    "# YOUR CODE HERE\n",
    "raise NotImplementedError()"
   ]
  },
  {
   "cell_type": "code",
   "execution_count": null,
   "metadata": {
    "deletable": false,
    "editable": false,
    "nbgrader": {
     "cell_type": "code",
     "checksum": "140560d93929fc6768da7a6ea3202d94",
     "grade": true,
     "grade_id": "cell-e86c062b5f99483d",
     "locked": true,
     "points": 5,
     "schema_version": 3,
     "solution": false,
     "task": false
    }
   },
   "outputs": [],
   "source": []
  },
  {
   "cell_type": "markdown",
   "metadata": {
    "deletable": false,
    "editable": false,
    "nbgrader": {
     "cell_type": "markdown",
     "checksum": "9d7819aa7c530c3bebf01297c4374902",
     "grade": false,
     "grade_id": "cell-abdc6365ea7e3ef9",
     "locked": true,
     "schema_version": 3,
     "solution": false,
     "task": false
    }
   },
   "source": [
    "## Challenge 2d: Calculate Monthly Total Stream Discharge\n",
    "\n",
    "In the cell below, calculate the sum for each month of stream discharge for \n",
    "the entire time period in the data.\n",
    "\n",
    "Be sure to call your dataframe at the end of the cell."
   ]
  },
  {
   "cell_type": "code",
   "execution_count": null,
   "metadata": {
    "deletable": false,
    "nbgrader": {
     "cell_type": "code",
     "checksum": "d19b1178c8c91073e8a4acfb6d802c1d",
     "grade": false,
     "grade_id": "cell-402fad3846da1f4e",
     "locked": false,
     "schema_version": 3,
     "solution": true,
     "task": false
    }
   },
   "outputs": [],
   "source": [
    "# YOUR CODE HERE\n",
    "raise NotImplementedError()"
   ]
  },
  {
   "cell_type": "code",
   "execution_count": null,
   "metadata": {
    "deletable": false,
    "editable": false,
    "nbgrader": {
     "cell_type": "code",
     "checksum": "e54da7ed23e9192ce36f8c8a7640f8bb",
     "grade": true,
     "grade_id": "cell-81cd1acb94e4afb1",
     "locked": true,
     "points": 5,
     "schema_version": 3,
     "solution": false,
     "task": false
    }
   },
   "outputs": [],
   "source": [
    "# DO NOT MODIFY THIS CELL"
   ]
  },
  {
   "cell_type": "markdown",
   "metadata": {
    "deletable": false,
    "editable": false,
    "nbgrader": {
     "cell_type": "markdown",
     "checksum": "db86cee9e938858278f138bdc038c613",
     "grade": false,
     "grade_id": "cell-f1db34bbf352492c",
     "locked": true,
     "schema_version": 3,
     "solution": false,
     "task": false
    }
   },
   "source": [
    "## Challenge 2e: Figure - Plot Stream Discharge Data\n",
    "\n",
    "Create a vertically stacked figure that contains the following stream discharge subplots (You should have all of the data above needed to create these figures:\n",
    "\n",
    "* Subplot 1: daily discharge values from Aug 1, 2013 to Oct 1, 2013\n",
    "    * Plot needs a title, x axis label, and y axis label. The y label should have units of measure in it. \n",
    "    * X axis tick labels should be month-day (e.g. \"Aug-01\")\n",
    "* Subplot 2: Monthly maximum stream discharge for 2013\n",
    "    * Plot needs a title, x axis label, and y axis label. The y label should have units of measure in it. \n",
    "    * X axis tick labels should be month-day (e.g. \"Aug-01\")\n",
    "* Subplot 3: monthly totals of discharge for all years in dataset\n",
    "    * Plot needs a title, x axis label, and y axis label. The y label should have units of measure in it. \n",
    "    * X axis label should be Year (e.g. \"2013\")\n",
    "       \n",
    "You can use the `DateFormatter` package imported above to ensure you x axis labels are formatted correctly. "
   ]
  },
  {
   "cell_type": "code",
   "execution_count": null,
   "metadata": {
    "deletable": false,
    "nbgrader": {
     "cell_type": "code",
     "checksum": "6bfe6c7f394b0b83deb011e3e5b9223d",
     "grade": false,
     "grade_id": "discharge-plots",
     "locked": false,
     "schema_version": 3,
     "solution": true,
     "task": false
    }
   },
   "outputs": [],
   "source": [
    "# DO NOT MOTIFY THIS CELL\n",
    "# YOUR CODE HERE\n",
    "raise NotImplementedError()\n",
    "\n",
    "### DO NOT REMOVE LINE BELOW ###\n",
    "disc_plot = nb.convert_axes(plt, which_axes=\"all\")"
   ]
  },
  {
   "cell_type": "code",
   "execution_count": null,
   "metadata": {
    "deletable": false,
    "editable": false,
    "nbgrader": {
     "cell_type": "code",
     "checksum": "53547a031594eb083fce7a60f0b51c10",
     "grade": true,
     "grade_id": "discharge-plots-answers",
     "locked": true,
     "points": 0,
     "schema_version": 3,
     "solution": false,
     "task": false
    }
   },
   "outputs": [],
   "source": [
    "# DO NOT MODIFY THIS CELL\n"
   ]
  },
  {
   "cell_type": "code",
   "execution_count": null,
   "metadata": {
    "deletable": false,
    "editable": false,
    "nbgrader": {
     "cell_type": "code",
     "checksum": "f9a56aa6af6dbea2b5b159ae6fd08c18",
     "grade": true,
     "grade_id": "discharge-plots-tests",
     "locked": true,
     "points": 24,
     "schema_version": 3,
     "solution": false,
     "task": false
    }
   },
   "outputs": [],
   "source": [
    "# DO NOT MODIFY THIS CELL\n",
    "daily_disc = PlotTester(disc_plot[0])\n",
    "monthly_max_disc = PlotTester(disc_plot[1])\n",
    "sum_disc = PlotTester(disc_plot[2])\n",
    "line_plot_1, line_plot_2, line_plot_3 = False, False, False\n",
    "\n",
    "try:\n",
    "    daily_disc.assert_plot_type('line')\n",
    "    print(\"\\u2705 First plot is a line plot!\")\n",
    "    line_plot_1 = True\n",
    "except AssertionError:\n",
    "    print(\"\\u274C The first plot is not a line plot, make sure to make it to a line plot. Tests will not run successfully if this does not pass.\")\n",
    "\n",
    "try:\n",
    "    monthly_max_disc.assert_plot_type('line')\n",
    "    print(\"\\u2705 Second plot is a line plot!\")\n",
    "    line_plot_2 = True\n",
    "except AssertionError:\n",
    "    print(\"\\u274C The second plot is not a line plot, make sure to make it to a line plot. Tests will not run successfully if this does not pass.\")\n",
    "\n",
    "try:\n",
    "    sum_disc.assert_plot_type('line')\n",
    "    print(\"\\u2705 Second plot is a line plot!\")\n",
    "    line_plot_3 = True\n",
    "except AssertionError:\n",
    "    print(\"\\u274C The second plot is not a line plot, make sure to make it to a line plot. Tests will not run successfully if this does not pass.\")\n",
    "\n"
   ]
  },
  {
   "cell_type": "markdown",
   "metadata": {
    "deletable": false,
    "editable": false,
    "nbgrader": {
     "cell_type": "markdown",
     "checksum": "2dfc4d152132dbcc9663e28c057e5404",
     "grade": false,
     "grade_id": "cell-4f423066e2f24a8a",
     "locked": true,
     "points": 12,
     "schema_version": 3,
     "solution": false,
     "task": true
    }
   },
   "source": [
    "## Pep 8, Spelling and Does the Notebook Run?\n",
    "In this cell, we will give you points for the following\n",
    "\n",
    "1. PEP 8 is followed throughout the notebook (4 points)\n",
    "2. Spelling and grammar are considered in your written responses above (4 points)\n",
    "3. The notebook runs from top to bottom without any editing (it is reproducible) - 4 points"
   ]
  }
 ],
 "metadata": {
  "kernelspec": {
   "display_name": "Python 3",
   "language": "python",
   "name": "python3"
  },
  "language_info": {
   "codemirror_mode": {
    "name": "ipython",
    "version": 3
   },
   "file_extension": ".py",
   "mimetype": "text/x-python",
   "name": "python",
   "nbconvert_exporter": "python",
   "pygments_lexer": "ipython3",
   "version": "3.8.5"
  },
  "toc": {
   "base_numbering": 1,
   "nav_menu": {},
   "number_sections": true,
   "sideBar": true,
   "skip_h1_title": false,
   "title_cell": "Table of Contents",
   "title_sidebar": "Contents",
   "toc_cell": false,
   "toc_position": {
    "height": "calc(100% - 180px)",
    "left": "10px",
    "top": "150px",
    "width": "248.2px"
   },
   "toc_section_display": true,
   "toc_window_display": true
  },
  "varInspector": {
   "cols": {
    "lenName": 16,
    "lenType": 16,
    "lenVar": 40
   },
   "kernels_config": {
    "python": {
     "delete_cmd_postfix": "",
     "delete_cmd_prefix": "del ",
     "library": "var_list.py",
     "varRefreshCmd": "print(var_dic_list())"
    },
    "r": {
     "delete_cmd_postfix": ") ",
     "delete_cmd_prefix": "rm(",
     "library": "var_list.r",
     "varRefreshCmd": "cat(var_dic_list()) "
    }
   },
   "types_to_exclude": [
    "module",
    "function",
    "builtin_function_or_method",
    "instance",
    "_Feature"
   ],
   "window_display": false
  }
 },
 "nbformat": 4,
 "nbformat_minor": 2
}
